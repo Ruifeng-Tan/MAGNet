{
 "cells": [
  {
   "attachments": {},
   "cell_type": "markdown",
   "metadata": {},
   "source": [
    "# 1 Data split"
   ]
  },
  {
   "attachments": {},
   "cell_type": "markdown",
   "metadata": {
    "collapsed": false,
    "pycharm": {
     "name": "#%% md\n"
    }
   },
   "source": [
    "If you are interested in the LFP data split. Please use this code. "
   ]
  },
  {
   "cell_type": "code",
   "execution_count": 1,
   "metadata": {
    "collapsed": false,
    "pycharm": {
     "name": "#%%\n"
    }
   },
   "outputs": [],
   "source": [
    "import numpy as np\n",
    "import random\n",
    "import pandas as pd\n",
    "import copy\n",
    "import os\n",
    "import json\n",
    "seed = 2023\n",
    "random.seed(seed)\n",
    "np.random.seed(seed)"
   ]
  },
  {
   "cell_type": "markdown",
   "metadata": {},
   "source": [
    "For Nature Energy dataset, we use the conditions that cause relatively short cycle life as the testing condtions. As for other conditions, they are randomly split into training conditions and validation conditions."
   ]
  },
  {
   "cell_type": "code",
   "execution_count": 2,
   "metadata": {},
   "outputs": [],
   "source": [
    "def check_policy_avg_life(policy_of_interest, name_policy, return_cell_number=False):\n",
    "    cycle_life = []\n",
    "    for name, policy in name_policy.items():\n",
    "        if policy == policy_of_interest:\n",
    "            df = pd.read_csv(f'./dataset/NatureEnergy_cycle_data/{name}.csv')\n",
    "            cycle_life.append(len(df))\n",
    "    if return_cell_number:\n",
    "        return np.mean(cycle_life), len(cycle_life)\n",
    "    return np.mean(cycle_life)"
   ]
  },
  {
   "cell_type": "code",
   "execution_count": 3,
   "metadata": {},
   "outputs": [
    {
     "name": "stdout",
     "output_type": "stream",
     "text": [
      "Train-52:['8C(35%)-3.6C', '8C(25%)-3.6C', '8C(15%)-3.6C', '7C(40%)-3C', '7C(40%)-3.6C', '7C(30%)-3.6C', '6C(60%)-3C', '6C(50%)-3C', '6C(50%)-3.6C', '6C(40%)-3C', '6C(40%)-3.6C', '6C(4%)-4.75C', '6C(30%)-3.6C', '5C(67%)-4C', '5.9C(60%)-3.1C', '5.9C(15%)-4.6C', '5.6C(5%)-4.75C', '5.6C(38%)-4.25C', '5.6C(36%)-4.3C', '5.6C(25%)-4.5C', '5.6C(19%)-4.6C', '5.4C(80%)-5.4C', '5.4C(70%)-3C', '5.4C(60%)-3C', '5.4C(60%)-3.6C', '5.4C(50%)-3C', '5.4C(40%)-3.6C', '5.3C(54%)-4C', '5.2C(66%)-3.5C', '5.2C(58%)-4C', '5.2C(50%)-4.25C', '5.2C(37%)-4.5C', '5.2C(10%)-4.75C', '4C(80%)-4C', '4C(40%)-6C', '4C(4%)-4.85C', '4C(13%)-5C', '4.9C(69%)-4.25C', '4.9C(61%)-4.5C', '4.8C(80%)-4.8C', '4.65C(69%)-6C', '4.65C(44%)-5C', '4.65C(19%)-4.85C', '4.4C(80%)-4.4C', '4.4C(8%)-4.85C', '4.4C(47%)-5.5C', '4.4C(24%)-5C', '3.7C(31%)-5.9C', '3.6C(9%)-5C', '3.6C(80%)-3.6C', '3.6C(30%)-6C', '3.6C(2%)-4.85C']\n",
      "Test-16:['6C(52%)-3.5C', '6C(40%)-4C', '6C(31%)-4.25C', '6C(20%)-4.5C', '5.6C(65%)-3C', '5.6C(58%)-3.5C', '5.6C(47%)-4C', '5.2C(71%)-3C', '4C(31%)-5C', '4.9C(27%)-4.75C', '4.4C(55%)-6C', '3.6C(22%)-5.5C', '2C(7%)-5.5C', '2C(2%)-5C', '2C(10%)-6C', '1C(4%)-6C']\n",
      "\n",
      "\n",
      "Train-40:['8C(35%)-3.6C', '8C(25%)-3.6C', '8C(15%)-3.6C', '7C(40%)-3C', '7C(40%)-3.6C', '7C(30%)-3.6C', '6C(50%)-3.6C', '6C(40%)-3C', '6C(40%)-3.6C', '6C(4%)-4.75C', '6C(30%)-3.6C', '5C(67%)-4C', '5.9C(60%)-3.1C', '5.9C(15%)-4.6C', '5.6C(5%)-4.75C', '5.6C(38%)-4.25C', '5.6C(36%)-4.3C', '5.4C(70%)-3C', '5.4C(60%)-3C', '5.4C(50%)-3C', '5.4C(40%)-3.6C', '5.3C(54%)-4C', '5.2C(58%)-4C', '5.2C(50%)-4.25C', '5.2C(37%)-4.5C', '5.2C(10%)-4.75C', '4C(80%)-4C', '4C(40%)-6C', '4C(4%)-4.85C', '4.9C(69%)-4.25C', '4.9C(61%)-4.5C', '4.65C(44%)-5C', '4.65C(19%)-4.85C', '4.4C(80%)-4.4C', '4.4C(47%)-5.5C', '4.4C(24%)-5C', '3.7C(31%)-5.9C', '3.6C(9%)-5C', '3.6C(80%)-3.6C', '3.6C(30%)-6C']\n",
      "Val-12:['5.4C(60%)-3.6C', '4.4C(8%)-4.85C', '5.2C(66%)-3.5C', '3.6C(2%)-4.85C', '5.6C(19%)-4.6C', '4.8C(80%)-4.8C', '4C(13%)-5C', '5.4C(80%)-5.4C', '4.65C(69%)-6C', '6C(60%)-3C', '6C(50%)-3C', '5.6C(25%)-4.5C']\n",
      "Test-16:['6C(52%)-3.5C', '6C(40%)-4C', '6C(31%)-4.25C', '6C(20%)-4.5C', '5.6C(65%)-3C', '5.6C(58%)-3.5C', '5.6C(47%)-4C', '5.2C(71%)-3C', '4C(31%)-5C', '4.9C(27%)-4.75C', '4.4C(55%)-6C', '3.6C(22%)-5.5C', '2C(7%)-5.5C', '2C(2%)-5C', '2C(10%)-6C', '1C(4%)-6C']\n",
      "Trainig conditions\n",
      "1 2 488.5 8C(35%)-3.6C\n",
      "2 2 618.5 8C(25%)-3.6C\n",
      "3 2 945.5 8C(15%)-3.6C\n",
      "4 2 635.5 7C(40%)-3C\n",
      "5 2 582.0 7C(40%)-3.6C\n",
      "6 2 690.0 7C(30%)-3.6C\n",
      "7 2 790.5 6C(50%)-3.6C\n",
      "8 2 925.0 6C(40%)-3C\n",
      "9 2 854.0 6C(40%)-3.6C\n",
      "10 1 484.0 6C(4%)-4.75C\n",
      "11 1 1011.0 6C(30%)-3.6C\n",
      "12 6 1113.5 5C(67%)-4C\n",
      "13 2 864.5 5.9C(60%)-3.1C\n",
      "14 2 865.0 5.9C(15%)-4.6C\n",
      "15 1 497.0 5.6C(5%)-4.75C\n",
      "16 1 475.0 5.6C(38%)-4.25C\n",
      "17 8 928.875 5.6C(36%)-4.3C\n",
      "18 2 711.5 5.4C(70%)-3C\n",
      "19 2 796.5 5.4C(60%)-3C\n",
      "20 1 785.0 5.4C(50%)-3C\n",
      "21 1 1051.0 5.4C(40%)-3.6C\n",
      "22 8 1072.125 5.3C(54%)-4C\n",
      "23 1 517.0 5.2C(58%)-4C\n",
      "24 1 516.0 5.2C(50%)-4.25C\n",
      "25 1 489.0 5.2C(37%)-4.5C\n",
      "26 1 479.0 5.2C(10%)-4.75C\n",
      "27 2 1567.0 4C(80%)-4C\n",
      "28 1 480.0 4C(40%)-6C\n",
      "29 1 483.0 4C(4%)-4.85C\n",
      "30 1 495.0 4.9C(69%)-4.25C\n",
      "31 1 507.0 4.9C(61%)-4.5C\n",
      "32 1 510.0 4.65C(44%)-5C\n",
      "33 1 486.0 4.65C(19%)-4.85C\n",
      "34 1 1070.0 4.4C(80%)-4.4C\n",
      "35 1 485.0 4.4C(47%)-5.5C\n",
      "36 1 491.0 4.4C(24%)-5C\n",
      "37 3 657.6666666666666 3.7C(31%)-5.9C\n",
      "38 1 558.0 3.6C(9%)-5C\n",
      "39 3 2077.6666666666665 3.6C(80%)-3.6C\n",
      "40 1 508.0 3.6C(30%)-6C\n",
      "Validation conditions\n",
      "41 2 857.0 5.4C(60%)-3.6C\n",
      "42 1 499.0 4.4C(8%)-4.85C\n",
      "43 1 495.0 5.2C(66%)-3.5C\n",
      "44 1 477.0 3.6C(2%)-4.85C\n",
      "45 7 961.1428571428571 5.6C(19%)-4.6C\n",
      "46 9 1029.111111111111 4.8C(80%)-4.8C\n",
      "47 1 474.0 4C(13%)-5C\n",
      "48 2 543.5 5.4C(80%)-5.4C\n",
      "49 1 524.0 4.65C(69%)-6C\n",
      "50 3 730.0 6C(60%)-3C\n",
      "51 2 886.5 6C(50%)-3C\n",
      "52 1 532.0 5.6C(25%)-4.5C\n",
      "testing conditions\n",
      "53 1 427.0 6C(52%)-3.5C\n",
      "54 1 454.0 6C(40%)-4C\n",
      "55 1 459.0 6C(31%)-4.25C\n",
      "56 1 463.0 6C(20%)-4.5C\n",
      "57 1 426.0 5.6C(65%)-3C\n",
      "58 1 456.0 5.6C(58%)-3.5C\n",
      "59 1 462.0 5.6C(47%)-4C\n",
      "60 1 461.0 5.2C(71%)-3C\n",
      "61 1 455.0 4C(31%)-5C\n",
      "62 1 464.0 4.9C(27%)-4.75C\n",
      "63 1 458.0 4.4C(55%)-6C\n",
      "64 1 441.0 3.6C(22%)-5.5C\n",
      "65 1 332.0 2C(7%)-5.5C\n",
      "66 1 435.0 2C(2%)-5C\n",
      "67 1 146.0 2C(10%)-6C\n",
      "68 1 297.0 1C(4%)-6C\n",
      "The cell number\t cells\n",
      "77 ['b1c45.csv', 'b1c44.csv', 'b1c42.csv', 'b1c43.csv', 'b1c41.csv', 'b1c40.csv', 'b1c36.csv', 'b1c37.csv', 'b1c38.csv', 'b1c39.csv', 'b1c35.csv', 'b1c34.csv', 'b1c31.csv', 'b1c30.csv', 'b1c24.csv', 'b1c25.csv', 'b1c26.csv', 'b1c27.csv', 'b2c45.csv', 'b1c23.csv', 'b3c33.csv', 'b3c20.csv', 'b3c0.csv', 'b3c8.csv', 'b3c24.csv', 'b3c38.csv', 'b3c31.csv', 'b3c22.csv', 'b3c15.csv', 'b3c29.csv', 'b2c40.csv', 'b2c37.csv', 'b3c5.csv', 'b3c12.csv', 'b3c36.csv', 'b3c3.csv', 'b3c14.csv', 'b3c19.csv', 'b3c41.csv', 'b3c27.csv', 'b1c18.csv', 'b1c19.csv', 'b1c15.csv', 'b1c14.csv', 'b1c11.csv', 'b1c9.csv', 'b3c9.csv', 'b3c17.csv', 'b3c1.csv', 'b3c44.csv', 'b3c25.csv', 'b3c39.csv', 'b3c34.csv', 'b3c30.csv', 'b2c33.csv', 'b2c32.csv', 'b2c31.csv', 'b2c30.csv', 'b1c3.csv', 'b1c4.csv', 'b2c13.csv', 'b2c14.csv', 'b2c29.csv', 'b2c28.csv', 'b2c22.csv', 'b2c21.csv', 'b1c5.csv', 'b2c18.csv', 'b2c17.csv', 'b3c21.csv', 'b3c6.csv', 'b3c28.csv', 'b2c10.csv', 'b1c2.csv', 'b1c0.csv', 'b1c1.csv', 'b2c6.csv']\n",
      "31 ['b1c32.csv', 'b1c33.csv', 'b2c47.csv', 'b1c28.csv', 'b1c29.csv', 'b2c36.csv', 'b3c18.csv', 'b3c11.csv', 'b3c4.csv', 'b3c35.csv', 'b3c40.csv', 'b3c26.csv', 'b3c13.csv', 'b1c21.csv', 'b1c20.csv', 'b1c17.csv', 'b1c16.csv', 'b2c34.csv', 'b2c11.csv', 'b1c7.csv', 'b2c24.csv', 'b1c6.csv', 'b3c10.csv', 'b2c26.csv', 'b3c16.csv', 'b3c7.csv', 'b3c45.csv', 'b2c25.csv', 'b2c23.csv', 'b2c20.csv', 'b2c5.csv']\n",
      "16 ['b2c46.csv', 'b2c44.csv', 'b2c43.csv', 'b2c42.csv', 'b2c41.csv', 'b2c39.csv', 'b2c38.csv', 'b2c35.csv', 'b2c12.csv', 'b2c27.csv', 'b2c19.csv', 'b2c4.csv', 'b2c3.csv', 'b2c2.csv', 'b2c1.csv', 'b2c0.csv']\n"
     ]
    }
   ],
   "source": [
    "total_cell_names = os.listdir('./dataset/NatureEnergy_cycle_data/')\n",
    "total_cell_names = [i.split('.')[0] for i in total_cell_names]\n",
    "val_ratio = 0.2\n",
    "name_policy = json.load(open('./dataset/name_policy.json'))\n",
    "policies = []\n",
    "for name, policy in name_policy.items():\n",
    "    if policy not in policies:\n",
    "        policies.append(policy)\n",
    "train_policies = []\n",
    "test_policies = []\n",
    "val_policies = []\n",
    "\n",
    "for policy in policies:\n",
    "    if check_policy_avg_life(policy,name_policy) < 470:\n",
    "        test_policies.append(policy)\n",
    "    else:\n",
    "        train_policies.append(policy)\n",
    "print(f'Train-{len(train_policies)}:{train_policies}')\n",
    "print(f'Test-{len(test_policies)}:{test_policies}')\n",
    "\n",
    "val_num = 12\n",
    "val_policies = random.sample(train_policies,val_num)\n",
    "train_policies = [i for i in train_policies if i not in val_policies]\n",
    "print('\\n')\n",
    "print(f'Train-{len(train_policies)}:{train_policies}')\n",
    "print(f'Val-{len(val_policies)}:{val_policies}')\n",
    "print(f'Test-{len(test_policies)}:{test_policies}')\n",
    "\n",
    "row_index = 0\n",
    "print('Trainig conditions')\n",
    "for p in train_policies:\n",
    "    row_index += 1\n",
    "    avg_cycle_life, cell_number = check_policy_avg_life(p, name_policy, True)\n",
    "    print(row_index, cell_number, avg_cycle_life, p)\n",
    "print('Validation conditions')\n",
    "for p in val_policies:\n",
    "    row_index += 1\n",
    "    avg_cycle_life, cell_number = check_policy_avg_life(p, name_policy, True)\n",
    "    print(row_index, cell_number, avg_cycle_life, p)\n",
    "print('testing conditions')\n",
    "for p in test_policies:\n",
    "    row_index += 1\n",
    "    avg_cycle_life, cell_number = check_policy_avg_life(p, name_policy, True)\n",
    "    print(row_index, cell_number, avg_cycle_life, p)\n",
    "# Get the specific cells\n",
    "train_cells, val_cells, test_cells = [], [], []\n",
    "for name, policy in name_policy.items():\n",
    "    name = name + '.csv'\n",
    "    if policy in train_policies:\n",
    "        train_cells.append(name)\n",
    "    elif policy in val_policies:\n",
    "        val_cells.append(name)\n",
    "    else:\n",
    "        test_cells.append(name)\n",
    "print('The cell number\\t cells')\n",
    "print(len(train_cells), train_cells)\n",
    "print(len(val_cells), val_cells)\n",
    "print(len(test_cells),test_cells)"
   ]
  },
  {
   "cell_type": "code",
   "execution_count": 4,
   "metadata": {},
   "outputs": [
    {
     "name": "stdout",
     "output_type": "stream",
     "text": [
      "[('2C(10%)-6C', [146, 'b2c1.csv']), ('1C(4%)-6C', [297, 'b2c0.csv']), ('2C(7%)-5.5C', [332, 'b2c3.csv']), ('5.6C(65%)-3C', [426, 'b2c41.csv']), ('6C(52%)-3.5C', [427, 'b2c46.csv']), ('2C(2%)-5C', [435, 'b2c2.csv']), ('3.6C(22%)-5.5C', [441, 'b2c4.csv']), ('6C(40%)-4C', [454, 'b2c44.csv']), ('4C(31%)-5C', [455, 'b2c12.csv']), ('5.6C(58%)-3.5C', [456, 'b2c39.csv']), ('4.4C(55%)-6C', [458, 'b2c19.csv']), ('6C(31%)-4.25C', [459, 'b2c43.csv']), ('5.2C(71%)-3C', [461, 'b2c35.csv']), ('5.6C(47%)-4C', [462, 'b2c38.csv']), ('6C(20%)-4.5C', [463, 'b2c42.csv']), ('4.9C(27%)-4.75C', [464, 'b2c27.csv'])]\n",
      "2C(10%)-6C [146, 'b2c1.csv']\n",
      "1C(4%)-6C [297, 'b2c0.csv']\n",
      "2C(7%)-5.5C [332, 'b2c3.csv']\n",
      "5.6C(65%)-3C [426, 'b2c41.csv']\n",
      "6C(52%)-3.5C [427, 'b2c46.csv']\n",
      "2C(2%)-5C [435, 'b2c2.csv']\n",
      "3.6C(22%)-5.5C [441, 'b2c4.csv']\n",
      "6C(40%)-4C [454, 'b2c44.csv']\n",
      "4C(31%)-5C [455, 'b2c12.csv']\n",
      "5.6C(58%)-3.5C [456, 'b2c39.csv']\n",
      "4.4C(55%)-6C [458, 'b2c19.csv']\n",
      "6C(31%)-4.25C [459, 'b2c43.csv']\n",
      "5.2C(71%)-3C [461, 'b2c35.csv']\n",
      "5.6C(47%)-4C [462, 'b2c38.csv']\n",
      "6C(20%)-4.5C [463, 'b2c42.csv']\n",
      "4.9C(27%)-4.75C [464, 'b2c27.csv']\n"
     ]
    }
   ],
   "source": [
    "test_cellPolicy_cycleLife = {}\n",
    "for cell in test_cells:\n",
    "    df = pd.read_csv(f'./dataset/NatureEnergy_cycle_data/{cell}')\n",
    "    cell_name = cell.split('.')[0]\n",
    "    cellPolicy = name_policy[cell_name]\n",
    "    test_cellPolicy_cycleLife[cellPolicy] = [len(df),cell]\n",
    "test_cellPolicy_cycleLife = sorted(test_cellPolicy_cycleLife.items(), key=lambda x:x[1][0])\n",
    "print(test_cellPolicy_cycleLife)\n",
    "for key, value in test_cellPolicy_cycleLife:\n",
    "    print(key, value)"
   ]
  }
 ],
 "metadata": {
  "kernelspec": {
   "display_name": "Python 3",
   "language": "python",
   "name": "python3"
  },
  "language_info": {
   "codemirror_mode": {
    "name": "ipython",
    "version": 3
   },
   "file_extension": ".py",
   "mimetype": "text/x-python",
   "name": "python",
   "nbconvert_exporter": "python",
   "pygments_lexer": "ipython3",
   "version": "3.8.16"
  },
  "orig_nbformat": 4,
  "vscode": {
   "interpreter": {
    "hash": "c820b425f001cba74ecd627355c34beac622b8957ca54b14b5ea179cd06ff807"
   }
  }
 },
 "nbformat": 4,
 "nbformat_minor": 2
}
