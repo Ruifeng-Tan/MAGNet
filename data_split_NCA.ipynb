{
 "cells": [
  {
   "attachments": {},
   "cell_type": "markdown",
   "metadata": {},
   "source": [
    "# 1 Data split"
   ]
  },
  {
   "attachments": {},
   "cell_type": "markdown",
   "metadata": {
    "collapsed": false,
    "pycharm": {
     "name": "#%% md\n"
    }
   },
   "source": [
    "If you are interested in the data split. Please use this code."
   ]
  },
  {
   "cell_type": "code",
   "execution_count": 1,
   "metadata": {
    "collapsed": false,
    "pycharm": {
     "name": "#%%\n"
    }
   },
   "outputs": [],
   "source": [
    "import numpy as np\n",
    "import random\n",
    "import pandas as pd\n",
    "import copy\n",
    "import os\n",
    "seed = 2021\n",
    "random.seed(seed)\n",
    "np.random.seed(seed)"
   ]
  },
  {
   "cell_type": "code",
   "execution_count": 2,
   "metadata": {
    "collapsed": false,
    "pycharm": {
     "name": "#%%\n"
    }
   },
   "outputs": [
    {
     "name": "stdout",
     "output_type": "stream",
     "text": [
      "94\n",
      "55 ['NCA_CY25-1_1-#6.csv', 'NCA_CY25-1_1-#1.csv', 'NCA_CY25-1_1-#9.csv', 'NCA_CY25-1_1-#3.csv', 'NCA_CY25-1_1-#7.csv', 'NCM_CY45-05_1-#1.csv', 'NCM_CY45-05_1-#18.csv', 'NCM_CY45-05_1-#20.csv', 'NCM_CY45-05_1-#11.csv', 'NCM_CY45-05_1-#24.csv', 'NCM_CY45-05_1-#2.csv', 'NCM_CY45-05_1-#23.csv', 'NCM_CY45-05_1-#13.csv', 'NCM_CY45-05_1-#27.csv', 'NCM_CY45-05_1-#19.csv', 'NCM_CY45-05_1-#25.csv', 'NCM_CY45-05_1-#28.csv', 'NCM_CY45-05_1-#17.csv', 'NCM_CY45-05_1-#21.csv', 'NCA_CY25-05_1-#14.csv', 'NCA_CY25-05_1-#11.csv', 'NCA_CY25-05_1-#6.csv', 'NCA_CY25-05_1-#1.csv', 'NCA_CY25-05_1-#2.csv', 'NCA_CY25-05_1-#19.csv', 'NCA_CY25-05_1-#13.csv', 'NCA_CY25-05_1-#7.csv', 'NCA_CY25-05_1-#17.csv', 'NCA_CY25-05_1-#4.csv', 'NCM_CY35-05_1-#4.csv', 'NCM_CY35-05_1-#3.csv', 'NCM_CY35-05_1-#1.csv', 'NCM_CY25-05_1-#9.csv', 'NCM_CY25-05_1-#15.csv', 'NCM_CY25-05_1-#8.csv', 'NCM_CY25-05_1-#17.csv', 'NCM_CY25-05_1-#16.csv', 'NCA_CY45-05_1-#28.csv', 'NCA_CY45-05_1-#17.csv', 'NCA_CY45-05_1-#5.csv', 'NCA_CY45-05_1-#2.csv', 'NCA_CY45-05_1-#21.csv', 'NCA_CY45-05_1-#7.csv', 'NCA_CY45-05_1-#9.csv', 'NCA_CY45-05_1-#19.csv', 'NCA_CY45-05_1-#22.csv', 'NCA_CY45-05_1-#14.csv', 'NCA_CY45-05_1-#16.csv', 'NCA_CY45-05_1-#8.csv', 'NCA_CY45-05_1-#23.csv', 'NCA_CY45-05_1-#24.csv', 'NCA_CY25-025_1-#3.csv', 'NCA_CY25-025_1-#5.csv', 'NCA_CY25-025_1-#4.csv', 'NCA_CY35-05_1-#2.csv']\n",
      "18 ['NCA_CY25-1_1-#8.csv', 'NCA_CY25-1_1-#2.csv', 'NCM_CY45-05_1-#14.csv', 'NCM_CY45-05_1-#26.csv', 'NCM_CY45-05_1-#7.csv', 'NCM_CY45-05_1-#16.csv', 'NCM_CY45-05_1-#10.csv', 'NCA_CY25-05_1-#16.csv', 'NCA_CY25-05_1-#10.csv', 'NCA_CY25-05_1-#15.csv', 'NCM_CY25-05_1-#13.csv', 'NCA_CY45-05_1-#12.csv', 'NCA_CY45-05_1-#10.csv', 'NCA_CY45-05_1-#20.csv', 'NCA_CY45-05_1-#26.csv', 'NCA_CY45-05_1-#13.csv', 'NCA_CY45-05_1-#27.csv', 'NCA_CY25-025_1-#6.csv']\n",
      "21 ['NCA_CY25-1_1-#5.csv', 'NCA_CY25-1_1-#4.csv', 'NCM_CY45-05_1-#9.csv', 'NCM_CY45-05_1-#8.csv', 'NCM_CY45-05_1-#15.csv', 'NCM_CY45-05_1-#12.csv', 'NCM_CY45-05_1-#22.csv', 'NCA_CY25-05_1-#12.csv', 'NCA_CY25-05_1-#5.csv', 'NCA_CY25-05_1-#3.csv', 'NCA_CY25-05_1-#18.csv', 'NCM_CY35-05_1-#2.csv', 'NCM_CY25-05_1-#5.csv', 'NCM_CY25-05_1-#12.csv', 'NCA_CY45-05_1-#11.csv', 'NCA_CY45-05_1-#15.csv', 'NCA_CY45-05_1-#1.csv', 'NCA_CY45-05_1-#18.csv', 'NCA_CY45-05_1-#25.csv', 'NCA_CY25-025_1-#7.csv', 'NCA_CY35-05_1-#1.csv']\n"
     ]
    }
   ],
   "source": [
    "def split_based_on_condition(input_path,training_ratio=0.8,val_ratio=0.3):\n",
    "    files = os.listdir(input_path)\n",
    "    print(len(files))\n",
    "    condition_data = {}\n",
    "    train_files = []\n",
    "    val_files = []\n",
    "    test_files = []\n",
    "    for file in files:\n",
    "        condition = file.split('#')[0]\n",
    "        condition_data[condition] = condition_data.get(condition,[]) + [file]\n",
    "    for condition,data in condition_data.items():\n",
    "        train_val_num = int(len(data)*training_ratio)\n",
    "        tmp_data = random.sample(data,train_val_num)\n",
    "        test_files += [i for i in data if i not in tmp_data]\n",
    "        val_num = int(len(tmp_data)*val_ratio) # get the validation set\n",
    "        val_files += random.sample(tmp_data,val_num)\n",
    "        train_files += [i for i in tmp_data if i not in val_files]\n",
    "    return train_files, val_files, test_files\n",
    "\n",
    "NC_train_files, NC_val_files, NC_test_files = split_based_on_condition('./dataset/NC_autoformer_cycle_data/')\n",
    "print(len(NC_train_files),NC_train_files)\n",
    "print(len(NC_val_files),NC_val_files)\n",
    "print(len(NC_test_files),NC_test_files)"
   ]
  }
 ],
 "metadata": {
  "kernelspec": {
   "display_name": "Python 3",
   "language": "python",
   "name": "python3"
  },
  "language_info": {
   "codemirror_mode": {
    "name": "ipython",
    "version": 3
   },
   "file_extension": ".py",
   "mimetype": "text/x-python",
   "name": "python",
   "nbconvert_exporter": "python",
   "pygments_lexer": "ipython3",
   "version": "3.8.16"
  },
  "orig_nbformat": 4,
  "vscode": {
   "interpreter": {
    "hash": "c820b425f001cba74ecd627355c34beac622b8957ca54b14b5ea179cd06ff807"
   }
  }
 },
 "nbformat": 4,
 "nbformat_minor": 2
}
