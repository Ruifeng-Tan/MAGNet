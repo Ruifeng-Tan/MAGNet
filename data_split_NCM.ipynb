{
 "cells": [
  {
   "cell_type": "markdown",
   "metadata": {},
   "source": [
    "# README\n",
    "This notebook is used to split the UofM dataset. https://deepblue.lib.umich.edu/data/concern/data_sets/5d86p0488"
   ]
  },
  {
   "cell_type": "code",
   "execution_count": 1,
   "metadata": {},
   "outputs": [],
   "source": [
    "import numpy as np\n",
    "import pandas as pd\n",
    "import os\n",
    "import json\n",
    "import random\n",
    "from scipy.integrate import trapz\n",
    "import matplotlib.pyplot as plt\n",
    "seed = 2023\n",
    "random.seed(seed)\n",
    "np.random.seed(seed)"
   ]
  },
  {
   "cell_type": "code",
   "execution_count": null,
   "metadata": {},
   "outputs": [],
   "source": []
  },
  {
   "cell_type": "code",
   "execution_count": 2,
   "metadata": {},
   "outputs": [
    {
     "name": "stdout",
     "output_type": "stream",
     "text": [
      "training set: 51 ['tagged_2-6.csv', 'tagged_2-3.csv', 'tagged_3-4.csv', 'tagged_3-2.csv', 'tagged_7-7.csv', 'tagged_5-4.csv', 'tagged_1-3.csv', 'tagged_6-1.csv', 'tagged_3-3.csv', 'tagged_8-8.csv', 'tagged_5-3.csv', 'tagged_6-8.csv', 'tagged_3-1.csv', 'tagged_5-2.csv', 'tagged_9-3.csv', 'tagged_2-2.csv', 'tagged_10-2.csv', 'tagged_4-5.csv', 'tagged_4-7.csv', 'tagged_4-2.csv', 'tagged_9-6.csv', 'tagged_8-4.csv', 'tagged_10-6.csv', 'tagged_3-8.csv', 'tagged_5-6.csv', 'tagged_6-2.csv', 'tagged_10-5.csv', 'tagged_8-6.csv', 'tagged_3-7.csv', 'tagged_6-3.csv', 'tagged_3-6.csv', 'tagged_8-7.csv', 'tagged_9-1.csv', 'tagged_10-7.csv', 'tagged_4-8.csv', 'tagged_5-1.csv', 'tagged_4-1.csv', 'tagged_9-4.csv', 'tagged_9-5.csv', 'tagged_10-1.csv', 'tagged_6-6.csv', 'tagged_5-5.csv', 'tagged_6-4.csv', 'tagged_3-5.csv', 'tagged_7-1.csv', 'tagged_6-5.csv', 'tagged_1-7.csv', 'tagged_2-7.csv', 'tagged_7-8.csv', 'tagged_10-3.csv', 'tagged_1-5.csv']\n",
      "validation_set 10 ['tagged_9-7.csv', 'tagged_10-4.csv', 'tagged_8-3.csv', 'tagged_9-2.csv', 'tagged_1-8.csv', 'tagged_7-5.csv', 'tagged_9-8.csv', 'tagged_8-2.csv', 'tagged_1-2.csv', 'tagged_7-2.csv']\n",
      "testing_set set: 16 ['tagged_8-1.csv', 'tagged_10-8.csv', 'tagged_4-4.csv', 'tagged_1-6.csv', 'tagged_4-3.csv', 'tagged_7-6.csv', 'tagged_2-4.csv', 'tagged_4-6.csv', 'tagged_8-5.csv', 'tagged_1-1.csv', 'tagged_5-7.csv', 'tagged_2-5.csv', 'tagged_7-3.csv', 'tagged_7-4.csv', 'tagged_2-8.csv', 'tagged_1-4.csv']\n"
     ]
    }
   ],
   "source": [
    "data_path = './dataset/HUST_cycle_data/'\n",
    "total_files = os.listdir(data_path)\n",
    "threshold = 1504\n",
    "# select the short-life cells as testing set\n",
    "training_set = []\n",
    "testing_set = []\n",
    "total_cycle_lives = []\n",
    "for file in total_files:\n",
    "    df = pd.read_csv(f'{data_path}{file}')\n",
    "    if len(df['cycle number'].unique()) <= 1504:\n",
    "        testing_set.append(file)\n",
    "    else:\n",
    "        training_set.append(file)\n",
    "    total_cycle_lives.append(len(df))\n",
    "\n",
    "validation_set = random.sample(training_set, 10)\n",
    "training_set = [i for i in training_set if i not in validation_set]\n",
    "\n",
    "# show the split\n",
    "print(f'training set: {len(training_set)}', training_set)\n",
    "print(f'validation_set {len(validation_set)}', validation_set)\n",
    "print(f'testing_set set: {len(testing_set)}', testing_set)"
   ]
  }
 ],
 "metadata": {
  "kernelspec": {
   "display_name": "Python 3",
   "language": "python",
   "name": "python3"
  },
  "language_info": {
   "codemirror_mode": {
    "name": "ipython",
    "version": 3
   },
   "file_extension": ".py",
   "mimetype": "text/x-python",
   "name": "python",
   "nbconvert_exporter": "python",
   "pygments_lexer": "ipython3",
   "version": "3.8.13"
  }
 },
 "nbformat": 4,
 "nbformat_minor": 2
}
