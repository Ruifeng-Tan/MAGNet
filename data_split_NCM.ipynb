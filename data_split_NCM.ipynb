{
 "cells": [
  {
   "cell_type": "markdown",
   "metadata": {},
   "source": [
    "# README\n",
    "This notebook is used to split the UofM dataset. https://deepblue.lib.umich.edu/data/concern/data_sets/5d86p0488"
   ]
  },
  {
   "cell_type": "code",
   "execution_count": 13,
   "metadata": {},
   "outputs": [],
   "source": [
    "import numpy as np\n",
    "import pandas as pd\n",
    "import os\n",
    "import json\n",
    "import random\n",
    "from scipy.integrate import trapz\n",
    "import matplotlib.pyplot as plt\n",
    "seed = 2023\n",
    "random.seed(seed)\n",
    "np.random.seed(seed)"
   ]
  },
  {
   "cell_type": "markdown",
   "metadata": {},
   "source": [
    "first, calculate the median cycle life in the UofM dataset"
   ]
  },
  {
   "cell_type": "code",
   "execution_count": 14,
   "metadata": {},
   "outputs": [
    {
     "name": "stdout",
     "output_type": "stream",
     "text": [
      "207.0\n",
      "12.csv 98\n",
      "03.csv 106\n",
      "09.csv 116\n",
      "21.csv 116\n",
      "06.csv 122\n",
      "07.csv 125\n",
      "15.csv 133\n",
      "18.csv 160\n",
      "04.csv 166\n",
      "08.csv 207\n",
      "05.csv 207\n",
      "11.csv 256\n",
      "01.csv 259\n",
      "10.csv 289\n",
      "02.csv 296\n",
      "17.csv 355\n",
      "20.csv 357\n",
      "19.csv 371\n",
      "13.csv 412\n",
      "14.csv 455\n",
      "16.csv 535\n"
     ]
    }
   ],
   "source": [
    "data_path = './dataset/UofM_cycle_data/'\n",
    "files = os.listdir(data_path)\n",
    "total_cycle_lives = {}\n",
    "for file in files:\n",
    "    df = pd.read_csv(f'{data_path}{file}')\n",
    "    total_cycle_lives[file] = len(df)\n",
    "\n",
    "print(np.median(list(total_cycle_lives.values())))\n",
    "total_cycle_lives = dict(sorted(total_cycle_lives.items(), key=lambda x:x[1]))\n",
    "# total_cycle_lives = dict(sorted(total_cycle_lives.items(), key=lambda x:x[0]))\n",
    "for key, value in total_cycle_lives.items():\n",
    "    print(key, value)"
   ]
  },
  {
   "cell_type": "code",
   "execution_count": 15,
   "metadata": {},
   "outputs": [
    {
     "name": "stdout",
     "output_type": "stream",
     "text": [
      "Training set: 13 cells ['01.csv', '02.csv', '04.csv', '08.csv', '10.csv', '11.csv', '12.csv', '15.csv', '16.csv', '17.csv', '18.csv', '19.csv', '20.csv']\n",
      "Val set: 4 cells ['05.csv', '14.csv', '07.csv', '13.csv']\n",
      "Testing set: 4 cells ['03.csv', '09.csv', '21.csv', '06.csv']\n"
     ]
    }
   ],
   "source": [
    "total_files = os.listdir(data_path)\n",
    "# randomly select 20% (4) cells into tetsting set\n",
    "testing_set = ['03.csv', '09.csv', '21.csv', '06.csv']\n",
    "training_set = [i for i in total_files if i not in testing_set]\n",
    "validation_set = random.sample(training_set, 4)\n",
    "training_set = [i for i in training_set if i not in validation_set]\n",
    "\n",
    "# show the splits\n",
    "print(f'Training set: {len(training_set)} cells', sorted(training_set))\n",
    "print(f'Val set: {len(validation_set)} cells', validation_set)\n",
    "print(f'Testing set: {len(testing_set)} cells', testing_set)"
   ]
  }
 ],
 "metadata": {
  "kernelspec": {
   "display_name": "Python 3",
   "language": "python",
   "name": "python3"
  },
  "language_info": {
   "codemirror_mode": {
    "name": "ipython",
    "version": 3
   },
   "file_extension": ".py",
   "mimetype": "text/x-python",
   "name": "python",
   "nbconvert_exporter": "python",
   "pygments_lexer": "ipython3",
   "version": "3.8.13"
  }
 },
 "nbformat": 4,
 "nbformat_minor": 2
}
