{
 "cells": [
  {
   "cell_type": "code",
   "execution_count": 4,
   "metadata": {},
   "outputs": [],
   "source": [
    "import torch\n",
    "from torch import nn"
   ]
  },
  {
   "cell_type": "code",
   "execution_count": 5,
   "metadata": {},
   "outputs": [],
   "source": [
    "\n",
    "class RBF(nn.Module):\n",
    "\n",
    "    def __init__(self, n_kernels=5, mul_factor=2.0, bandwidth=None):\n",
    "        super().__init__()\n",
    "        self.bandwidth_multipliers = mul_factor ** (torch.arange(n_kernels) - n_kernels // 2).cuda()\n",
    "        # self.bandwidth_multipliers = [0.1, 0.5, 1.0, 1.5, 2.0]\n",
    "        self.bandwidth = bandwidth\n",
    "\n",
    "    def get_bandwidth(self, L2_distances):\n",
    "        if self.bandwidth is None:\n",
    "            n_samples = L2_distances.shape[0]\n",
    "            return L2_distances.data.sum() / (n_samples ** 2 - n_samples)\n",
    "\n",
    "        return self.bandwidth\n",
    "\n",
    "    def forward(self, X):\n",
    "        L2_distances = torch.cdist(X, X) ** 2\n",
    "        return torch.exp(-L2_distances[None, ...] / (self.get_bandwidth(L2_distances) * self.bandwidth_multipliers)[:, None, None]).sum(dim=0)\n",
    "\n",
    "\n",
    "class MMDLoss(nn.Module):\n",
    "    # https://github.com/yiftachbeer/mmd_loss_pytorch/blob/master/mmd_loss.py\n",
    "    def __init__(self, kernel=RBF()):\n",
    "        super().__init__()\n",
    "        self.kernel = kernel\n",
    "\n",
    "    def forward(self, X, Y):\n",
    "        K = self.kernel(torch.vstack([X, Y]))\n",
    "\n",
    "        X_size = X.shape[0]\n",
    "        XX = K[:X_size, :X_size].mean()\n",
    "        XY = K[:X_size, X_size:].mean()\n",
    "        YY = K[X_size:, X_size:].mean()\n",
    "        return XX - 2 * XY + YY"
   ]
  },
  {
   "cell_type": "code",
   "execution_count": 7,
   "metadata": {},
   "outputs": [
    {
     "data": {
      "text/plain": [
       "tensor(0.7378, device='cuda:0')"
      ]
     },
     "execution_count": 7,
     "metadata": {},
     "output_type": "execute_result"
    },
    {
     "ename": "",
     "evalue": "",
     "output_type": "error",
     "traceback": [
      "\u001b[1;31mThe Kernel crashed while executing code in the current cell or a previous cell. \n",
      "\u001b[1;31mPlease review the code in the cell(s) to identify a possible cause of the failure. \n",
      "\u001b[1;31mClick <a href='https://aka.ms/vscodeJupyterKernelCrash'>here</a> for more info. \n",
      "\u001b[1;31mView Jupyter <a href='command:jupyter.viewOutput'>log</a> for further details."
     ]
    }
   ],
   "source": [
    "a = torch.rand(10,12).cuda()\n",
    "b = torch.rand(10,12).cuda()\n",
    "loss_func = MMDLoss()\n",
    "loss_func(a,b)"
   ]
  }
 ],
 "metadata": {
  "kernelspec": {
   "display_name": "Python 3",
   "language": "python",
   "name": "python3"
  },
  "language_info": {
   "codemirror_mode": {
    "name": "ipython",
    "version": 3
   },
   "file_extension": ".py",
   "mimetype": "text/x-python",
   "name": "python",
   "nbconvert_exporter": "python",
   "pygments_lexer": "ipython3",
   "version": "3.8.13"
  }
 },
 "nbformat": 4,
 "nbformat_minor": 2
}
